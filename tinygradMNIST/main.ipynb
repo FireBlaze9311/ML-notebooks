{
 "cells": [
  {
   "cell_type": "code",
   "execution_count": 12,
   "metadata": {},
   "outputs": [],
   "source": [
    "from tinygrad.nn import Linear\n",
    "from tinygrad.tensor import Tensor\n",
    "from tinygrad.nn.optim import SGD, get_parameters\n",
    "from datasets import fetch_mnist\n",
    "import numpy as np"
   ]
  },
  {
   "cell_type": "code",
   "execution_count": 10,
   "metadata": {},
   "outputs": [],
   "source": [
    "class TinyNet:\n",
    "    def __init__(self):\n",
    "        self.l1 = Linear(784, 128, bias=False)\n",
    "        self.l2 = Linear(128, 10, bias=False)\n",
    "    \n",
    "    def __call__(self, x):\n",
    "        x = self.l1(x)\n",
    "        x = x.leakyrelu()\n",
    "        x = self.l2(x)\n",
    "        return x.log_softmax()\n",
    "    \n",
    "net = TinyNet()"
   ]
  },
  {
   "cell_type": "code",
   "execution_count": 14,
   "metadata": {},
   "outputs": [
    {
     "name": "stdout",
     "output_type": "stream",
     "text": [
      "Step 1 | Loss: 0.41080746054649353 | Accuracy: 0.9375\n",
      "Step 101 | Loss: 1.0151039361953735 | Accuracy: 0.8125\n",
      "Step 201 | Loss: 0.3535616099834442 | Accuracy: 0.953125\n",
      "Step 301 | Loss: 0.3401767611503601 | Accuracy: 0.9375\n",
      "Step 401 | Loss: 0.24193640053272247 | Accuracy: 0.921875\n",
      "Step 501 | Loss: 0.22169612348079681 | Accuracy: 0.90625\n",
      "Step 601 | Loss: 0.2963210940361023 | Accuracy: 0.921875\n",
      "Step 701 | Loss: 0.3528132438659668 | Accuracy: 0.921875\n",
      "Step 801 | Loss: 0.1925179362297058 | Accuracy: 0.953125\n",
      "Step 901 | Loss: 0.35431843996047974 | Accuracy: 0.9375\n"
     ]
    }
   ],
   "source": [
    "Tensor.training = True\n",
    "\n",
    "def cross_entropy(out, Y):\n",
    "    num_classes = out.shape[-1]\n",
    "    YY = Y.flatten().astype(np.int32)\n",
    "    y = np.zeros((YY.shape[0], num_classes), np.float32)\n",
    "    y[range(y.shape[0]), YY] = -1.0*num_classes\n",
    "    y = y.reshape(list(Y.shape)+[num_classes])\n",
    "    y = Tensor(y)\n",
    "    return out.mul(y).mean()\n",
    "\n",
    "opt = SGD(get_parameters(net), lr=3e-4)\n",
    "\n",
    "X_train, Y_train, X_test, Y_test = fetch_mnist()\n",
    "\n",
    "for step in range(1000):\n",
    "  # random sample a batch\n",
    "  samp = np.random.randint(0, X_train.shape[0], size=(64))\n",
    "  batch = Tensor(X_train[samp], requires_grad=False)\n",
    "  # get the corresponding labels\n",
    "  labels = Y_train[samp]\n",
    "\n",
    "  # forward pass\n",
    "  out = net(batch)\n",
    "\n",
    "  # compute loss\n",
    "  loss = cross_entropy(out, labels)\n",
    "\n",
    "  # zero gradients\n",
    "  opt.zero_grad()\n",
    "\n",
    "  # backward pass\n",
    "  loss.backward()\n",
    "\n",
    "  # update parameters\n",
    "  opt.step()\n",
    "\n",
    "  # calculate accuracy\n",
    "  pred = np.argmax(out.numpy(), axis=-1)\n",
    "  acc = (pred == labels).mean()\n",
    "\n",
    "  if step % 100 == 0:\n",
    "    print(f\"Step {step+1} | Loss: {loss.numpy()} | Accuracy: {acc}\")\n"
   ]
  }
 ],
 "metadata": {
  "kernelspec": {
   "display_name": "ml",
   "language": "python",
   "name": "python3"
  },
  "language_info": {
   "codemirror_mode": {
    "name": "ipython",
    "version": 3
   },
   "file_extension": ".py",
   "mimetype": "text/x-python",
   "name": "python",
   "nbconvert_exporter": "python",
   "pygments_lexer": "ipython3",
   "version": "3.11.3"
  },
  "orig_nbformat": 4
 },
 "nbformat": 4,
 "nbformat_minor": 2
}
